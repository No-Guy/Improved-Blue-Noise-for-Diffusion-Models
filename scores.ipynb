{
 "cells": [
  {
   "cell_type": "code",
   "execution_count": 9,
   "metadata": {},
   "outputs": [],
   "source": [
    "import torch\n",
    "import torchvision.transforms as transforms\n",
    "import torchvision.models as models\n",
    "import numpy as np\n",
    "import os\n",
    "from tqdm import tqdm\n",
    "from PIL import Image\n",
    "from scipy.spatial import distance\n",
    "from pytorch_fid import fid_score\n",
    "from prdc import compute_prdc\n",
    "#noisetype = 'purplestrong'\n",
    "# Define paths\n",
    "def calculate_scores(noisetype):\n",
    "    real_images_dir = \"data/cat_res64/0\"  # Directory containing real images\n",
    "    generated_images_dir = f\"results_gaussianBN/cat_res64_gaussianBN_sigmoid_1000.0_0_3_outc6_seed0/{noisetype}/images/model_bluev21_750\" \n",
    "\n",
    "    # Load Inception-v3 model (pretrained on ImageNet)\n",
    "    inception = models.inception_v3(pretrained=True, transform_input=False).cuda()\n",
    "    inception.fc = torch.nn.Identity()  # Remove classification layer to get feature vectors\n",
    "    inception.eval()  # Set to evaluation mode\n",
    "\n",
    "    # Transformation to match Inception-v3 input requirements\n",
    "    transform = transforms.Compose([\n",
    "        transforms.Resize((299, 299)),  # Inception requires 299x299 input\n",
    "        transforms.ToTensor(),\n",
    "        transforms.Normalize(mean=[0.5, 0.5, 0.5], std=[0.5, 0.5, 0.5])  # Normalization\n",
    "    ])\n",
    "\n",
    "    # Function to load images and extract features\n",
    "    def extract_features(image_dir, model):\n",
    "        features = []\n",
    "        image_paths = sorted([os.path.join(image_dir, img) for img in os.listdir(image_dir) if img.endswith(\".jpg\") or img.endswith(\".png\")])\n",
    "        \n",
    "        for img_path in tqdm(image_paths, desc=f\"Processing {image_dir}\"):\n",
    "            image = Image.open(img_path).convert(\"RGB\")  # Load and convert to RGB\n",
    "            image = (transform(image).unsqueeze(0)).cuda()  # Apply transformation\n",
    "            with torch.no_grad():\n",
    "                feature = model(image)  # Extract feature vector\n",
    "            features.append(feature.squeeze().cpu().numpy())  # Convert to numpy\n",
    "        return np.array(features)\n",
    "\n",
    "    # Extract feature embeddings\n",
    "    # real_features = extract_features(real_images_dir, inception)\n",
    "    # np.save(\"real_features.npy\",real_features)\n",
    "    fid = fid_score.calculate_fid_given_paths([real_images_dir, generated_images_dir], batch_size=64, device='cuda', dims=2048)\n",
    "    real_features = np.load(\"real_features.npy\")\n",
    "    generated_features = extract_features(generated_images_dir, inception)\n",
    "\n",
    "    # Compute FID (Fréchet Inception Distance)\n",
    "    \n",
    "    #print(f\"FID Score: {fid_score:.4f}\")\n",
    "\n",
    "    # Compute Precision and Recall\n",
    "    prdc_metrics = compute_prdc(real_features, generated_features, nearest_k=5)\n",
    "    prdc_metrics['fid'] = fid\n",
    "    return prdc_metrics\n",
    "    # print(f\"Precision: {prdc_metrics['precision']:.4f}\")\n",
    "    # print(f\"Recall: {prdc_metrics['recall']:.4f}\")\n",
    "    # print(f\"Density: {prdc_metrics['density']:.4f}\")\n",
    "    # print(f\"Coverage: {prdc_metrics['coverage']:.4f}\")"
   ]
  },
  {
   "cell_type": "code",
   "execution_count": 10,
   "metadata": {},
   "outputs": [
    {
     "name": "stderr",
     "output_type": "stream",
     "text": [
      "c:\\Users\\guyle\\AppData\\Local\\Programs\\Python\\Python310\\lib\\site-packages\\torchvision\\models\\_utils.py:208: UserWarning: The parameter 'pretrained' is deprecated since 0.13 and may be removed in the future, please use 'weights' instead.\n",
      "  warnings.warn(\n",
      "c:\\Users\\guyle\\AppData\\Local\\Programs\\Python\\Python310\\lib\\site-packages\\torchvision\\models\\_utils.py:223: UserWarning: Arguments other than a weight enum or `None` for 'weights' are deprecated since 0.13 and may be removed in the future. The current behavior is equivalent to passing `weights=Inception_V3_Weights.IMAGENET1K_V1`. You can also use `weights=Inception_V3_Weights.DEFAULT` to get the most up-to-date weights.\n",
      "  warnings.warn(msg)\n",
      "100%|██████████| 81/81 [00:10<00:00,  8.07it/s]\n",
      "100%|██████████| 81/81 [00:09<00:00,  8.33it/s]\n",
      "Processing results_gaussianBN/cat_res64_gaussianBN_sigmoid_1000.0_0_3_outc6_seed0/bluev21/images/model_bluev21_750: 100%|██████████| 5153/5153 [01:37<00:00, 53.04it/s]\n"
     ]
    },
    {
     "name": "stdout",
     "output_type": "stream",
     "text": [
      "Num real: 5153 Num fake: 5153\n",
      "---metrics for bluev21---\n",
      "FID: 6.9013\n",
      "Precision: 0.8494\n",
      "Recall: 0.6006\n",
      "Density: 1.2833\n",
      "Coverage: 0.9156\n",
      "\n"
     ]
    }
   ],
   "source": [
    "#noisetypes = {\"baseline\":None,\"bluev14\":None,\"bluev15\":None,\"bluev21\":None,\"bluev22\":None,\"bluev23\":None,\"bluev24\":None,\"bluev25\":None,\"red\":None,\"white\":None,\"greenv1\":None,\"greenv2\":None,\"purplev1\":None,\"purplev2\":None,\"purplev3\":None}\n",
    "noisetypes = {\"bluev21\":None}\n",
    "for noisetype in noisetypes:\n",
    "    noisetypes[noisetype] = calculate_scores(noisetype=noisetype)\n",
    "    print(f\"---metrics for {noisetype}---\\nFID: {noisetypes[noisetype]['fid']:.4f}\\nPrecision: {noisetypes[noisetype]['precision']:.4f}\\nRecall: {noisetypes[noisetype]['recall']:.4f}\\nDensity: {noisetypes[noisetype]['density']:.4f}\\nCoverage: {noisetypes[noisetype]['coverage']:.4f}\\n\")\n",
    "# ---metrics for untrained---\n",
    "# FID: 8.9628\n",
    "# Precision: 0.8151\n",
    "# Recall: 0.6061\n",
    "# Density: 1.1147\n",
    "# Coverage: 0.8700"
   ]
  }
 ],
 "metadata": {
  "kernelspec": {
   "display_name": "Python 3",
   "language": "python",
   "name": "python3"
  },
  "language_info": {
   "codemirror_mode": {
    "name": "ipython",
    "version": 3
   },
   "file_extension": ".py",
   "mimetype": "text/x-python",
   "name": "python",
   "nbconvert_exporter": "python",
   "pygments_lexer": "ipython3",
   "version": "3.10.6"
  },
  "orig_nbformat": 4
 },
 "nbformat": 4,
 "nbformat_minor": 2
}
